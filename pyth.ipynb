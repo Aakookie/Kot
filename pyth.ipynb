{
 "cells": [
  {
   "cell_type": "code",
   "execution_count": null,
   "metadata": {},
   "outputs": [],
   "source": [
    "a = int(input())\n",
    "print(a)"
   ]
  },
  {
   "cell_type": "code",
   "execution_count": null,
   "metadata": {},
   "outputs": [],
   "source": [
    "for i in range(10):\n",
    "    a = input()\n",
    "    if a == \"Hi\":\n",
    "        print('Hello')\n",
    "    elif a == \"Hru?\":\n",
    "        print('Fine')\n",
    "    else:\n",
    "        print(\"don't unterstand\")"
   ]
  },
  {
   "cell_type": "code",
   "execution_count": 4,
   "metadata": {},
   "outputs": [
    {
     "name": "stdout",
     "output_type": "stream",
     "text": [
      "[0, 22, 3, 33, 14, 11, 78, 84, 2, 92] 0\n"
     ]
    }
   ],
   "source": [
    " import random \n",
    " l = []\n",
    " m = 1\n",
    " for i in range(10):\n",
    "    l.append(random.randint(0, 100))\n",
    "    m = m*l[i]\n",
    "print(l, m)\n"
   ]
  },
  {
   "cell_type": "code",
   "execution_count": 7,
   "metadata": {},
   "outputs": [
    {
     "name": "stdout",
     "output_type": "stream",
     "text": [
      "операция не распознана\n"
     ]
    }
   ],
   "source": [
    "def simple_math(n):\n",
    "    a = n.split()\n",
    "    s = 0\n",
    "    if a[1] == \"+\":\n",
    "        s = int(a[0])+int(a[2])\n",
    "        print(s)\n",
    "    elif a[1] == \"-\":\n",
    "        s = int(a[0])-int(a[2])\n",
    "        print(s)\n",
    "    elif a[1] == \"*\":\n",
    "        s = int(a[0])*int(a[2])\n",
    "        print(s)\n",
    "    elif a[1] == \"/\":\n",
    "        s = int(a[0])/int(a[2])\n",
    "        print(s)\n",
    "    elif a[1] == \"**\":\n",
    "        s = int(a[0])**int(a[2])\n",
    "        print(s)\n",
    "    else:\n",
    "        print('операция не распознана')\n",
    "\n",
    "\n",
    "pr = input('Введите пример, состоящий из одной математической операции')\n",
    "simple_math(pr)"
   ]
  },
  {
   "cell_type": "code",
   "execution_count": 4,
   "metadata": {},
   "outputs": [
    {
     "name": "stdout",
     "output_type": "stream",
     "text": [
      "33 + 12\n",
      "22 + 19\n",
      "49 + 13\n",
      "48 + 13\n",
      "Mistake\n"
     ]
    }
   ],
   "source": [
    "import random\n",
    "a = True\n",
    "while a == True:\n",
    "    n1 = random.randint(10, 50)\n",
    "    n2 = random.randint(10, 50)\n",
    "    prim = f\"{n1} + {n2}\"\n",
    "    print(prim)\n",
    "    ans = int(input())\n",
    "    if ans != n1 + n2:\n",
    "        a = False\n",
    "        print('Mistake')\n"
   ]
  }
 ],
 "metadata": {
  "kernelspec": {
   "display_name": "Python 3.10.7 64-bit",
   "language": "python",
   "name": "python3"
  },
  "language_info": {
   "codemirror_mode": {
    "name": "ipython",
    "version": 3
   },
   "file_extension": ".py",
   "mimetype": "text/x-python",
   "name": "python",
   "nbconvert_exporter": "python",
   "pygments_lexer": "ipython3",
   "version": "3.10.7"
  },
  "orig_nbformat": 4,
  "vscode": {
   "interpreter": {
    "hash": "26de051ba29f2982a8de78e945f0abaf191376122a1563185a90213a26c5da77"
   }
  }
 },
 "nbformat": 4,
 "nbformat_minor": 2
}
